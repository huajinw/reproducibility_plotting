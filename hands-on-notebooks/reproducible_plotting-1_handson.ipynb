{
 "cells": [
  {
   "cell_type": "markdown",
   "metadata": {},
   "source": [
    "# Reproducible Data Visualization with Python (Matplotlib) in Jupyter Notebooks - Part I "
   ]
  },
  {
   "cell_type": "markdown",
   "metadata": {},
   "source": [
    "Credits: These workshop materials are adapted from: [Reproducible Science Curriculum](https://github.com/Reproducible-Science-Curriculum) and [Lectures on scientific computing with Python](https://github.com/jrjohansson/scientific-python-lectures)"
   ]
  },
  {
   "cell_type": "markdown",
   "metadata": {},
   "source": [
    "# 1. Background on reproducible research\n",
    "(See slides for details)\n",
    "* A motivating example: the Neutrino study \n",
    "* The reproducibility crisis \n",
    "* Factors contributing to poor reproducibility and solutions (documentation, organization, automation, dissemination) \n",
    "* __Computational reproducibility__\n",
    "* There are tools that can help with each of these steps! \n",
    "\n"
   ]
  },
  {
   "cell_type": "markdown",
   "metadata": {},
   "source": [
    "# 2. Data & Project Organization\n",
    "(See slides for details)\n",
    "* How to structure project folders and name files \n",
    "* File naming conventions \n",
    "* Slides to adapt from: https://reproducible-science-curriculum.github.io/organization-RR-Jupyter/slides/02_slideshow_organization.slides.html#/"
   ]
  },
  {
   "cell_type": "markdown",
   "metadata": {},
   "source": [
    "# 3. Intro to Jupyter Notebook \n",
    "* An open source literate programming tool that can interlink narratives and code\n",
    "* Can document coding process like writing a diary\n",
    "* Can run the code in-line and see the intermediate results and visualization, and document the output together with code in the same file  \n",
    "* Easy to publish and share with collaborators, reviewers, and the public\n",
    "* A well-known example: [LIGO](http://www.ligo.org/) (Laser Interferometer Gravitational-Wave Observatory)\n",
    ">* All [data](https://losc.ligo.org/data/) are publically available free of charge.\n",
    ">* Jupyter Notebooks running Python are produced for each [publication](https://www.ligo.caltech.edu/page/detection-companion-papers). \n",
    ">* These notebooks allow full reproducibility: all analyses and figures can be recreated.\n",
    ">* Produce in-depth [Tutorials](https://losc.ligo.org/tutorials/) using Jupyter Notebooks and Python\n",
    ">* [Signal processing tutorial](https://losc.ligo.org/s/events/GW150914/GW150914_tutorial.html)\n"
   ]
  },
  {
   "cell_type": "markdown",
   "metadata": {},
   "source": [
    "# 4. Hands-on: Familiarizing with Jupyter Notebook\n",
    "\n",
    "## Set up\n",
    "* First, show of hands, who already:  \n",
    "    * have python installed; \n",
    "    * have jupyter notebook installed\n",
    "    * know basic Python\n",
    "    * know basic Markdown"
   ]
  },
  {
   "cell_type": "markdown",
   "metadata": {},
   "source": [
    "## Launching Jupyter Notebook\n",
    "\n",
    "* If you have previously installed Jupyter Notebook on your computer, lauch locally from your command line by typing in `jupyter notebook`\n",
    "* If you haven't installed Jupyter Notebook on you computer, you can start a temporary notebook on Jupyter server (Try Jupyter: https://jupyter.org/try) to avoid installations. Once there, select \"Try Classic Notebook\". An instance will oepn in your brswser. \n",
    "* In the long run you would want to install Python environment and relevant packages on you coputer. If you would like help with local installation, stay for half an hour longer after the workshop, or visit [dataCoLAB office hours](https://cmu-lib.github.io/data-colab/) Wednesday afternoons.  **Important: Do NOT install in the Root directory. If you are installing with Anaconda, be sure to change the default path to Home directory ( choose \"Install for me only\")**\n"
   ]
  },
  {
   "cell_type": "markdown",
   "metadata": {},
   "source": [
    "## Lauching repository directly using Binder\n",
    "For this workshop, we will launch pre-built notebooks using Binder from the GitHub repository. Go  to this link: https://github.com/huajinw/reproducibility_plotting and click on the \"launch binder\" logo at the bottom. It might take a while to build. \n",
    "\n",
    "In this case, you do not need to follow the set up in the next section, but we will go over it anyways. "
   ]
  },
  {
   "cell_type": "markdown",
   "metadata": {},
   "source": [
    "## Organizing your files and downloading data\n",
    "\n",
    "\n",
    "### Organizing your file structure\n",
    "Create a working directory using the file organizing priciples and naming conventions learned above. This can be done in the Jupyter Dashboard. \n",
    "1. Create `../reproducibility_workshop/` as your __working directory__ to store all files related to this workshop\n",
    "2. Go to the __working directory__, create three sub directories: \n",
    "   >`data` -- this is where downloaded data will be stored\n",
    "   >\n",
    "   >`notebooks` -- this is where the notebook files will be generated and saved\n",
    "   >\n",
    "   >`plots` -- this is where plots will be exported and saved\n",
    "3. Enter the `notebooks` folder and create a new Notebook in Python 3. Rename the Notebook as you wish. \n",
    "\n",
    "### Downloading data\n",
    "\n",
    "In this workshop, we will use the Gapminder dataset. Please download the raw data from the web [here](https://raw.githubusercontent.com/Reproducible-Science-Curriculum/data-exploration-RR-Jupyter/gh-pages/data/gapminderDataFiveYear_superDirty.txt) and [here](https://raw.githubusercontent.com/Reproducible-Science-Curriculum/data-exploration-RR-Jupyter/gh-pages/data/PRB_data.txt) on GitHub and  processed and cleaned data [here](https://github.com/huajinw/reproducibility_plotting/blob/master/data/gapminder_cleaned.txt). \n",
    "* If you are running Jupyter Notebook locally, save the files in the `data` folder that you created earlier.\n",
    "* If you are running Jupyter Notebook on the Jupyter server, download files to your computer, then uplaod them to the `data` foler that you created on the Jupyter server. "
   ]
  },
  {
   "cell_type": "markdown",
   "metadata": {},
   "source": [
    "## Basics of Navigating the Notebook"
   ]
  },
  {
   "cell_type": "markdown",
   "metadata": {},
   "source": [
    "Learning objectives: Familiarise with the notebook environment, build up a simple notebook from scratch demonstrating the following operations:\n",
    "\n",
    "* Insert & delete cells\n",
    "* Change cell type (& know different cell types)\n",
    "* Run a single cell from taskbar & keyboard shortcut (shift + Enter)\n",
    "* Run multiples cells, all cells\n",
    "* Re-order cells\n",
    "* Split & merge cells\n",
    "* Stop a cell\n",
    "\n",
    "Text can be added to Jupyter Notebooks using Markdown cells. Markdown is a popular markup language that is a superset of HTML. To learn more, see [Jupyter's Markdown guide](http://jupyter-notebook.readthedocs.io/en/latest/examples/Notebook/Working%20With%20Markdown%20Cells.html) or revisit the [Reproducible Research lesson on Markdown](https://github.com/Reproducible-Science-Curriculum/introduction-RR-Jupyter/blob/master/notebooks/Navigating%20the%20notebook%20-%20instructor%20script.ipynb). \n"
   ]
  },
  {
   "cell_type": "markdown",
   "metadata": {},
   "source": [
    "#### Now let's make a code cell below, and use print statement to print out 'hello world'"
   ]
  },
  {
   "cell_type": "markdown",
   "metadata": {},
   "source": []
  },
  {
   "cell_type": "markdown",
   "metadata": {},
   "source": [
    "#### What if we make the the same thing a markdown cells? "
   ]
  },
  {
   "cell_type": "code",
   "execution_count": null,
   "metadata": {},
   "outputs": [],
   "source": []
  },
  {
   "cell_type": "markdown",
   "metadata": {},
   "source": [
    "**_Question: What is the difference when you run the same lines as code or as Markdown?_**"
   ]
  },
  {
   "cell_type": "markdown",
   "metadata": {},
   "source": [
    "* To learning more about navigating Jupyter Notebook: https://github.com/Reproducible-Science-Curriculum/introduction-RR-Jupyter/blob/gh-pages/notebooks/Navigating%20the%20notebook%20-%20instructor%20script.ipynb\n",
    "* A Markdown cheatsheet can be found here: https://github.com/adam-p/markdown-here/wiki/Markdown-Cheatsheet"
   ]
  },
  {
   "cell_type": "markdown",
   "metadata": {},
   "source": [
    "## Saving, Checkpointing and Reverting the Notebook\n",
    "* The notebook wil autosave every few minutes.\n",
    "* You can also create a checkpoint using the floppy/save icon on the toolbar or File -> Save and Checkpoint.\n",
    "* You can revert the notebook to a saved checkpoint using File -> Revert to Saved Checkpoint."
   ]
  },
  {
   "cell_type": "markdown",
   "metadata": {},
   "source": [
    "## Checking Reproducibility\n",
    "* One of the aims of using notebooks is to produce an executable document that can be rerun to reproduce the results.\n",
    "* To run cells from scratch (i.e. from a fresh kernel), Kernel -> Restart and Clear Output and then run the cells you want.\n",
    "* To run all the cells in the notebook from scratch: Kernel -> Restart and Run All\n",
    "\n",
    "__<span style=\"color:red\">Note for reproducibility</spam>:__ Jupyter Notebook allows running cells out of order, but we highly recommend to run code cells in order all the time. If you do not know what has been run, restart the Kernel and run again."
   ]
  }
 ],
 "metadata": {
  "kernelspec": {
   "display_name": "Python 3",
   "language": "python",
   "name": "python3"
  },
  "language_info": {
   "codemirror_mode": {
    "name": "ipython",
    "version": 3
   },
   "file_extension": ".py",
   "mimetype": "text/x-python",
   "name": "python",
   "nbconvert_exporter": "python",
   "pygments_lexer": "ipython3",
   "version": "3.5.9"
  }
 },
 "nbformat": 4,
 "nbformat_minor": 2
}
