{
 "cells": [
  {
   "cell_type": "markdown",
   "metadata": {},
   "source": [
    "# Reproducible Data Visualization with Python (Matplotlib) in Jupyter Notebooks - Part II"
   ]
  },
  {
   "cell_type": "markdown",
   "metadata": {},
   "source": [
    "Credits: This part of lecture is adapted from [Reproducible Science Curriculum - Data Exploration](https://github.com/Reproducible-Science-Curriculum/data-exploration-RR-Jupyter/blob/gh-pages/notebooks/Data_exploration.ipynb) and [Lectures on scientific computing with Python - matplotlib - 2D and 3D plotting in Python](https://nbviewer.jupyter.org/github/jrjohansson/scientific-python-lectures/blob/master/Lecture-4-Matplotlib.ipynb)"
   ]
  },
  {
   "cell_type": "markdown",
   "metadata": {},
   "source": [
    "# 5. Exlorative Data Analysis"
   ]
  },
  {
   "cell_type": "markdown",
   "metadata": {},
   "source": [
    "## Importing libraies\n",
    "First, we need to import relavent Python libaraies needed to import, inspect, clean, and plot our data. To import a library, we use the syntax `import libraryName`. If we want to give the library a nickname to shorten the command, we can add `as nickNameHere`. An example of importing the Pandas library using the common nickname `pd` is below.\n",
    "\n",
    "**`import`** `pandas` **`as`** `pd`\n",
    "\n",
    "Normally, all commands to import libraries are organized at the top of each docuemnt. "
   ]
  },
  {
   "cell_type": "code",
   "execution_count": 1,
   "metadata": {
    "collapsed": true
   },
   "outputs": [],
   "source": [
    "import pandas as pd\n",
    "import matplotlib.pyplot as plt\n",
    "%matplotlib inline  "
   ]
  },
  {
   "cell_type": "markdown",
   "metadata": {},
   "source": [
    "If there is error in importing `pandas` or `matplotlib`, most likely becuase you have not installed this package in your environment. In that case, run  `pip install pandas` `pip install matplotlib` in your commandline if you are running Jupyter Notebook locally; otherwise, run `pip install pandas matplotlib` in a code cell in your Notebook. "
   ]
  },
  {
   "cell_type": "markdown",
   "metadata": {},
   "source": [
    "## The Pandas Library\n",
    "\n",
    "One of the best options for working with tabular data in Python is the Python Data Analysis Library (a.k.a. Pandas). The Pandas library is built on top of the NumPy package (another Python library). Pandas provides data structures, produces high quality plots with matplotlib, and integrates nicely with other libraries that use NumPy arrays. Those familiar with spreadsheets should become comfortable with Pandas data structures."
   ]
  },
  {
   "cell_type": "markdown",
   "metadata": {},
   "source": [
    "## matplotlib and other plotting libraries\n",
    "\n",
    "`matplotlib` is the most widely used Python library for plotting. See [the IPython docs](http://ipython.readthedocs.io/en/stable/interactive/plotting.html) for other IPython magics commands.Some of the many advantages of `matplotlib` library include:\n",
    "\n",
    "* Easy to get started\n",
    "* Support for $\\LaTeX$ formatted labels and texts\n",
    "* Great control of every element in a figure, including figure size and DPI. \n",
    "* High-quality output in many formats, including PNG, PDF, SVG, EPS, and PGF.\n",
    "* GUI for interactively exploring figures *and* support for headless generation of figure files (useful for batch jobs).\n",
    "\n",
    "One of the key features of matplotlib that I would like to emphasize, and that I think makes matplotlib highly suitable for generating figures for scientific publications is that all aspects of the figure can be controlled __programmatically (automation)__. This is important for reproducibility and convenient when one needs to regenerate the figure with updated data or change its appearance. \n",
    "\n",
    "In this lesson, we will use matplotlib and Seaborn, another package that works in tandem with matplotlib to make nice graphics.  There is a whole range of graphics packages in Python, ranging from basic visualizations to fancy, interactive graphics like [Bokeh](http://bokeh.pydata.org/en/latest/) and [Plotly](https://plot.ly/python/).  \n",
    "\n",
    "We encourage you to explore on your own!  Chances are, if you can imagine a plot you'd like to make, somebody else has written a package to do it.\n"
   ]
  },
  {
   "cell_type": "markdown",
   "metadata": {},
   "source": [
    "## The magic command\n",
    "`%matplotlib inline` is the magic command, to run matplotlib inline, otherwise plots will be generated outside of the notebook and may be difficult to find."
   ]
  },
  {
   "cell_type": "markdown",
   "metadata": {},
   "source": [
    "## Using libraies\n",
    "Each time we call a function that’s in a library, we use the syntax `LibraryName.FunctionName`. Adding the library name with a `.` before the function name tells Python where to find the function. In the example above, we have imported Pandas as `pd`. This means we don’t have to type out `pandas` each time we call a Pandas function.\n",
    "\n",
    "See this free [Pandas cheat sheet](https://www.datacamp.com/community/blog/python-pandas-cheat-sheet) from DataCamp for the most common Pandas commands. "
   ]
  },
  {
   "cell_type": "markdown",
   "metadata": {},
   "source": [
    "# Getting data into the notebook\n",
    "\n",
    "We will begin by locating and reading our data which are in a table format as a tab-delimited file. We will use Pandas’ `read_table` function to pull the file directly into a `DataFrame`.\n",
    "\n",
    "## What’s a `DataFrame`?\n",
    "A `DataFrame` is a 2-dimensional data structure that can store in columns data of different types (including characters, integers, floating point values, factors and more). It is similar to a spreadsheet or a SQL table or data.frame in R. A `DataFrame` always has an index (0-based). An index refers to the position of an element in the data structure.\n",
    "\n",
    "Note that we use `pd.read_table`, not just `read_table` or `pandas.read_table`, because we imported Pandas as `pd`.\n",
    "\n",
    "In our original file, the columns in the data set are separated by a TAB. We need to tell the `read_table` function in Pandas that that is the delimiter with `sep = ‘\\t’`."
   ]
  },
  {
   "cell_type": "code",
   "execution_count": 2,
   "metadata": {
    "collapsed": true
   },
   "outputs": [],
   "source": [
    "gapminder = pd.read_table(\"../data/gapminderDataFiveYear_superDirty.txt\", sep = \"\\t\")"
   ]
  },
  {
   "cell_type": "markdown",
   "metadata": {},
   "source": [
    "__<span style=\"color:red\">Note for reproducibility</span>__: use relative path `../data/` instead of the absolute path `/Users/Huajin/reproducibility_workshop/data/`. "
   ]
  },
  {
   "cell_type": "code",
   "execution_count": 3,
   "metadata": {},
   "outputs": [
    {
     "data": {
      "text/html": [
       "<div>\n",
       "<table border=\"1\" class=\"dataframe\">\n",
       "  <thead>\n",
       "    <tr style=\"text-align: right;\">\n",
       "      <th></th>\n",
       "      <th>year</th>\n",
       "      <th>pop</th>\n",
       "      <th>life Exp</th>\n",
       "      <th>gdpPercap</th>\n",
       "      <th>region</th>\n",
       "    </tr>\n",
       "  </thead>\n",
       "  <tbody>\n",
       "    <tr>\n",
       "      <th>0</th>\n",
       "      <td>1952.0</td>\n",
       "      <td>8425333.0</td>\n",
       "      <td>28.801</td>\n",
       "      <td>779.445314</td>\n",
       "      <td>Asia_Afghanistan</td>\n",
       "    </tr>\n",
       "    <tr>\n",
       "      <th>1</th>\n",
       "      <td>1957.0</td>\n",
       "      <td>9240934.0</td>\n",
       "      <td>30.332</td>\n",
       "      <td>820.853030</td>\n",
       "      <td>Asia_Afghanistan</td>\n",
       "    </tr>\n",
       "    <tr>\n",
       "      <th>2</th>\n",
       "      <td>1957.0</td>\n",
       "      <td>9240934.0</td>\n",
       "      <td>30.332</td>\n",
       "      <td>820.853030</td>\n",
       "      <td>Asia_Afghanistan</td>\n",
       "    </tr>\n",
       "    <tr>\n",
       "      <th>3</th>\n",
       "      <td>1962.0</td>\n",
       "      <td>10267083.0</td>\n",
       "      <td>31.997</td>\n",
       "      <td>853.100710</td>\n",
       "      <td>Asia_Afghanistan</td>\n",
       "    </tr>\n",
       "    <tr>\n",
       "      <th>4</th>\n",
       "      <td>1962.0</td>\n",
       "      <td>NaN</td>\n",
       "      <td>31.997</td>\n",
       "      <td>NaN</td>\n",
       "      <td>Asia_Afghanistan</td>\n",
       "    </tr>\n",
       "  </tbody>\n",
       "</table>\n",
       "</div>"
      ],
      "text/plain": [
       "     year         pop  life Exp   gdpPercap            region\n",
       "0  1952.0   8425333.0    28.801  779.445314  Asia_Afghanistan\n",
       "1  1957.0   9240934.0    30.332  820.853030  Asia_Afghanistan\n",
       "2  1957.0   9240934.0    30.332  820.853030  Asia_Afghanistan\n",
       "3  1962.0  10267083.0    31.997  853.100710  Asia_Afghanistan\n",
       "4  1962.0         NaN    31.997         NaN  Asia_Afghanistan"
      ]
     },
     "execution_count": 3,
     "metadata": {},
     "output_type": "execute_result"
    }
   ],
   "source": [
    "# to view the first 5 lines of data\n",
    "gapminder.head()"
   ]
  },
  {
   "cell_type": "code",
   "execution_count": 4,
   "metadata": {},
   "outputs": [
    {
     "data": {
      "text/html": [
       "<div>\n",
       "<table border=\"1\" class=\"dataframe\">\n",
       "  <thead>\n",
       "    <tr style=\"text-align: right;\">\n",
       "      <th></th>\n",
       "      <th>year</th>\n",
       "      <th>pop</th>\n",
       "      <th>life Exp</th>\n",
       "      <th>gdpPercap</th>\n",
       "      <th>region</th>\n",
       "    </tr>\n",
       "  </thead>\n",
       "  <tbody>\n",
       "    <tr>\n",
       "      <th>1705</th>\n",
       "      <td>1997.0</td>\n",
       "      <td>9417789.0</td>\n",
       "      <td>40.238</td>\n",
       "      <td>1071.353818</td>\n",
       "      <td>Africa_Zambia</td>\n",
       "    </tr>\n",
       "    <tr>\n",
       "      <th>1706</th>\n",
       "      <td>2002.0</td>\n",
       "      <td>10595811.0</td>\n",
       "      <td>39.193</td>\n",
       "      <td>1071.613938</td>\n",
       "      <td>Africa_Zambia</td>\n",
       "    </tr>\n",
       "    <tr>\n",
       "      <th>1707</th>\n",
       "      <td>2007.0</td>\n",
       "      <td>11746035.0</td>\n",
       "      <td>42.384</td>\n",
       "      <td>1271.211593</td>\n",
       "      <td>Africa_Zambia</td>\n",
       "    </tr>\n",
       "    <tr>\n",
       "      <th>1708</th>\n",
       "      <td>1952.0</td>\n",
       "      <td>3080907.0</td>\n",
       "      <td>48.451</td>\n",
       "      <td>406.884115</td>\n",
       "      <td>Africa_Zimbabwe</td>\n",
       "    </tr>\n",
       "    <tr>\n",
       "      <th>1709</th>\n",
       "      <td>1957.0</td>\n",
       "      <td>3646340.0</td>\n",
       "      <td>50.469</td>\n",
       "      <td>518.764268</td>\n",
       "      <td>Africa_Zimbabwe</td>\n",
       "    </tr>\n",
       "    <tr>\n",
       "      <th>1710</th>\n",
       "      <td>1962.0</td>\n",
       "      <td>4277736.0</td>\n",
       "      <td>52.358</td>\n",
       "      <td>527.272182</td>\n",
       "      <td>Africa_Zimbabwe</td>\n",
       "    </tr>\n",
       "    <tr>\n",
       "      <th>1711</th>\n",
       "      <td>1967.0</td>\n",
       "      <td>4995432.0</td>\n",
       "      <td>53.995</td>\n",
       "      <td>569.795071</td>\n",
       "      <td>Africa_Zimbabwe</td>\n",
       "    </tr>\n",
       "    <tr>\n",
       "      <th>1712</th>\n",
       "      <td>1972.0</td>\n",
       "      <td>5861135.0</td>\n",
       "      <td>55.635</td>\n",
       "      <td>799.362176</td>\n",
       "      <td>Africa_Zimbabwe</td>\n",
       "    </tr>\n",
       "    <tr>\n",
       "      <th>1713</th>\n",
       "      <td>1977.0</td>\n",
       "      <td>6642107.0</td>\n",
       "      <td>57.674</td>\n",
       "      <td>685.587682</td>\n",
       "      <td>Africa_Zimbabwe</td>\n",
       "    </tr>\n",
       "    <tr>\n",
       "      <th>1714</th>\n",
       "      <td>1982.0</td>\n",
       "      <td>7636524.0</td>\n",
       "      <td>60.363</td>\n",
       "      <td>788.855041</td>\n",
       "      <td>Africa_Zimbabwe</td>\n",
       "    </tr>\n",
       "    <tr>\n",
       "      <th>1715</th>\n",
       "      <td>1987.0</td>\n",
       "      <td>9216418.0</td>\n",
       "      <td>62.351</td>\n",
       "      <td>706.157306</td>\n",
       "      <td>Africa_Zimbabwe</td>\n",
       "    </tr>\n",
       "    <tr>\n",
       "      <th>1716</th>\n",
       "      <td>1992.0</td>\n",
       "      <td>10704340.0</td>\n",
       "      <td>60.377</td>\n",
       "      <td>693.420786</td>\n",
       "      <td>Africa_Zimbabwe</td>\n",
       "    </tr>\n",
       "    <tr>\n",
       "      <th>1717</th>\n",
       "      <td>1997.0</td>\n",
       "      <td>11404948.0</td>\n",
       "      <td>46.809</td>\n",
       "      <td>792.449960</td>\n",
       "      <td>Africa_Zimbabwe</td>\n",
       "    </tr>\n",
       "    <tr>\n",
       "      <th>1718</th>\n",
       "      <td>2002.0</td>\n",
       "      <td>11926563.0</td>\n",
       "      <td>39.989</td>\n",
       "      <td>672.038623</td>\n",
       "      <td>Africa_Zimbabwe</td>\n",
       "    </tr>\n",
       "    <tr>\n",
       "      <th>1719</th>\n",
       "      <td>2007.0</td>\n",
       "      <td>12311143.0</td>\n",
       "      <td>43.487</td>\n",
       "      <td>469.709298</td>\n",
       "      <td>Africa_Zimbabwe</td>\n",
       "    </tr>\n",
       "  </tbody>\n",
       "</table>\n",
       "</div>"
      ],
      "text/plain": [
       "        year         pop  life Exp    gdpPercap           region\n",
       "1705  1997.0   9417789.0    40.238  1071.353818    Africa_Zambia\n",
       "1706  2002.0  10595811.0    39.193  1071.613938    Africa_Zambia\n",
       "1707  2007.0  11746035.0    42.384  1271.211593    Africa_Zambia\n",
       "1708  1952.0   3080907.0    48.451   406.884115  Africa_Zimbabwe\n",
       "1709  1957.0   3646340.0    50.469   518.764268  Africa_Zimbabwe\n",
       "1710  1962.0   4277736.0    52.358   527.272182  Africa_Zimbabwe\n",
       "1711  1967.0   4995432.0    53.995   569.795071  Africa_Zimbabwe\n",
       "1712  1972.0   5861135.0    55.635   799.362176  Africa_Zimbabwe\n",
       "1713  1977.0   6642107.0    57.674   685.587682  Africa_Zimbabwe\n",
       "1714  1982.0   7636524.0    60.363   788.855041  Africa_Zimbabwe\n",
       "1715  1987.0   9216418.0    62.351   706.157306  Africa_Zimbabwe\n",
       "1716  1992.0  10704340.0    60.377   693.420786  Africa_Zimbabwe\n",
       "1717  1997.0  11404948.0    46.809   792.449960  Africa_Zimbabwe\n",
       "1718  2002.0  11926563.0    39.989   672.038623  Africa_Zimbabwe\n",
       "1719  2007.0  12311143.0    43.487   469.709298  Africa_Zimbabwe"
      ]
     },
     "execution_count": 4,
     "metadata": {},
     "output_type": "execute_result"
    }
   ],
   "source": [
    "# to view the last 15 lines of data\n",
    "gapminder.tail(15)"
   ]
  },
  {
   "cell_type": "markdown",
   "metadata": {},
   "source": [
    "## Data cleaning and preprocessing\n",
    "After data import, one should take some time to assess the structure and cleanliness of data, and perform data cleaning to enable further analysis and visulization. We will not cover those topics in this workshop, but you can see [Reproducible Science Curriculum - Data Exploration](https://github.com/Reproducible-Science-Curriculum/data-exploration-RR-Jupyter/blob/gh-pages/notebooks/Data_exploration.ipynb) module to learn some basics on your own.  For the purpose of this workshop, let's import the data that has already been cleaned, located under that `data` folder."
   ]
  },
  {
   "cell_type": "code",
   "execution_count": 5,
   "metadata": {
    "collapsed": true
   },
   "outputs": [],
   "source": [
    "# read in the cleaned data and name it `gapminder_clean`\n"
   ]
  },
  {
   "cell_type": "markdown",
   "metadata": {},
   "source": [
    "## Inspecting and Summerizing Data"
   ]
  },
  {
   "cell_type": "markdown",
   "metadata": {},
   "source": [
    "Now let's inspect the data again by looking at the first several lines. "
   ]
  },
  {
   "cell_type": "code",
   "execution_count": null,
   "metadata": {
    "collapsed": true
   },
   "outputs": [],
   "source": []
  },
  {
   "cell_type": "markdown",
   "metadata": {},
   "source": [
    "We can also use the `shape` method to find out how many rows and columns there are in the data. "
   ]
  },
  {
   "cell_type": "code",
   "execution_count": 7,
   "metadata": {},
   "outputs": [
    {
     "data": {
      "text/plain": [
       "(1716, 7)"
      ]
     },
     "execution_count": 7,
     "metadata": {},
     "output_type": "execute_result"
    }
   ],
   "source": [
    "# To view the shape of the data. Output will be (num rows, num columns)\n"
   ]
  },
  {
   "cell_type": "code",
   "execution_count": 8,
   "metadata": {},
   "outputs": [
    {
     "name": "stdout",
     "output_type": "stream",
     "text": [
      "<class 'pandas.core.frame.DataFrame'>\n",
      "RangeIndex: 1716 entries, 0 to 1715\n",
      "Data columns (total 7 columns):\n",
      "Unnamed: 0    1716 non-null int64\n",
      "year          1716 non-null int64\n",
      "pop           1716 non-null int64\n",
      "lifeexp       1716 non-null float64\n",
      "gdppercap     1716 non-null float64\n",
      "country       1716 non-null object\n",
      "continent     1716 non-null object\n",
      "dtypes: float64(2), int64(3), object(2)\n",
      "memory usage: 93.9+ KB\n"
     ]
    }
   ],
   "source": [
    "# To view general informaiton (eg. data type and number of entries) of each column\n",
    "gapminder_clean.info()"
   ]
  },
  {
   "cell_type": "code",
   "execution_count": 9,
   "metadata": {},
   "outputs": [
    {
     "data": {
      "text/html": [
       "<div>\n",
       "<table border=\"1\" class=\"dataframe\">\n",
       "  <thead>\n",
       "    <tr style=\"text-align: right;\">\n",
       "      <th></th>\n",
       "      <th>Unnamed: 0</th>\n",
       "      <th>year</th>\n",
       "      <th>pop</th>\n",
       "      <th>lifeexp</th>\n",
       "      <th>gdppercap</th>\n",
       "    </tr>\n",
       "  </thead>\n",
       "  <tbody>\n",
       "    <tr>\n",
       "      <th>count</th>\n",
       "      <td>1716.000000</td>\n",
       "      <td>1716.000000</td>\n",
       "      <td>1.716000e+03</td>\n",
       "      <td>1716.000000</td>\n",
       "      <td>1716.000000</td>\n",
       "    </tr>\n",
       "    <tr>\n",
       "      <th>mean</th>\n",
       "      <td>857.500000</td>\n",
       "      <td>1979.500000</td>\n",
       "      <td>2.939498e+07</td>\n",
       "      <td>59.577013</td>\n",
       "      <td>7170.489352</td>\n",
       "    </tr>\n",
       "    <tr>\n",
       "      <th>std</th>\n",
       "      <td>495.510848</td>\n",
       "      <td>17.265294</td>\n",
       "      <td>1.058144e+08</td>\n",
       "      <td>12.934328</td>\n",
       "      <td>9837.440250</td>\n",
       "    </tr>\n",
       "    <tr>\n",
       "      <th>min</th>\n",
       "      <td>0.000000</td>\n",
       "      <td>1952.000000</td>\n",
       "      <td>6.001100e+04</td>\n",
       "      <td>23.599000</td>\n",
       "      <td>241.165876</td>\n",
       "    </tr>\n",
       "    <tr>\n",
       "      <th>25%</th>\n",
       "      <td>428.750000</td>\n",
       "      <td>1965.750000</td>\n",
       "      <td>2.735858e+06</td>\n",
       "      <td>48.275750</td>\n",
       "      <td>1177.869539</td>\n",
       "    </tr>\n",
       "    <tr>\n",
       "      <th>50%</th>\n",
       "      <td>857.500000</td>\n",
       "      <td>1979.500000</td>\n",
       "      <td>6.985493e+06</td>\n",
       "      <td>60.873500</td>\n",
       "      <td>3484.113173</td>\n",
       "    </tr>\n",
       "    <tr>\n",
       "      <th>75%</th>\n",
       "      <td>1286.250000</td>\n",
       "      <td>1993.250000</td>\n",
       "      <td>1.929230e+07</td>\n",
       "      <td>70.961000</td>\n",
       "      <td>9279.348034</td>\n",
       "    </tr>\n",
       "    <tr>\n",
       "      <th>max</th>\n",
       "      <td>1715.000000</td>\n",
       "      <td>2007.000000</td>\n",
       "      <td>1.318683e+09</td>\n",
       "      <td>82.603000</td>\n",
       "      <td>113523.132900</td>\n",
       "    </tr>\n",
       "  </tbody>\n",
       "</table>\n",
       "</div>"
      ],
      "text/plain": [
       "        Unnamed: 0         year           pop      lifeexp      gdppercap\n",
       "count  1716.000000  1716.000000  1.716000e+03  1716.000000    1716.000000\n",
       "mean    857.500000  1979.500000  2.939498e+07    59.577013    7170.489352\n",
       "std     495.510848    17.265294  1.058144e+08    12.934328    9837.440250\n",
       "min       0.000000  1952.000000  6.001100e+04    23.599000     241.165876\n",
       "25%     428.750000  1965.750000  2.735858e+06    48.275750    1177.869539\n",
       "50%     857.500000  1979.500000  6.985493e+06    60.873500    3484.113173\n",
       "75%    1286.250000  1993.250000  1.929230e+07    70.961000    9279.348034\n",
       "max    1715.000000  2007.000000  1.318683e+09    82.603000  113523.132900"
      ]
     },
     "execution_count": 9,
     "metadata": {},
     "output_type": "execute_result"
    }
   ],
   "source": [
    "# To calculate numeric summeries of each column\n",
    "gapminder_clean.describe()"
   ]
  },
  {
   "cell_type": "markdown",
   "metadata": {},
   "source": [
    "But it doesn't make sense to calculate mean and std etc. for row index and year (the first two columns) . Let's pull out only the columns that contrain truly continuous numbers. "
   ]
  },
  {
   "cell_type": "code",
   "execution_count": 10,
   "metadata": {},
   "outputs": [
    {
     "data": {
      "text/html": [
       "<div>\n",
       "<table border=\"1\" class=\"dataframe\">\n",
       "  <thead>\n",
       "    <tr style=\"text-align: right;\">\n",
       "      <th></th>\n",
       "      <th>pop</th>\n",
       "      <th>lifeexp</th>\n",
       "      <th>gdppercap</th>\n",
       "    </tr>\n",
       "  </thead>\n",
       "  <tbody>\n",
       "    <tr>\n",
       "      <th>count</th>\n",
       "      <td>1.716000e+03</td>\n",
       "      <td>1716.000000</td>\n",
       "      <td>1716.000000</td>\n",
       "    </tr>\n",
       "    <tr>\n",
       "      <th>mean</th>\n",
       "      <td>2.939498e+07</td>\n",
       "      <td>59.577013</td>\n",
       "      <td>7170.489352</td>\n",
       "    </tr>\n",
       "    <tr>\n",
       "      <th>std</th>\n",
       "      <td>1.058144e+08</td>\n",
       "      <td>12.934328</td>\n",
       "      <td>9837.440250</td>\n",
       "    </tr>\n",
       "    <tr>\n",
       "      <th>min</th>\n",
       "      <td>6.001100e+04</td>\n",
       "      <td>23.599000</td>\n",
       "      <td>241.165876</td>\n",
       "    </tr>\n",
       "    <tr>\n",
       "      <th>25%</th>\n",
       "      <td>2.735858e+06</td>\n",
       "      <td>48.275750</td>\n",
       "      <td>1177.869539</td>\n",
       "    </tr>\n",
       "    <tr>\n",
       "      <th>50%</th>\n",
       "      <td>6.985493e+06</td>\n",
       "      <td>60.873500</td>\n",
       "      <td>3484.113173</td>\n",
       "    </tr>\n",
       "    <tr>\n",
       "      <th>75%</th>\n",
       "      <td>1.929230e+07</td>\n",
       "      <td>70.961000</td>\n",
       "      <td>9279.348034</td>\n",
       "    </tr>\n",
       "    <tr>\n",
       "      <th>max</th>\n",
       "      <td>1.318683e+09</td>\n",
       "      <td>82.603000</td>\n",
       "      <td>113523.132900</td>\n",
       "    </tr>\n",
       "  </tbody>\n",
       "</table>\n",
       "</div>"
      ],
      "text/plain": [
       "                pop      lifeexp      gdppercap\n",
       "count  1.716000e+03  1716.000000    1716.000000\n",
       "mean   2.939498e+07    59.577013    7170.489352\n",
       "std    1.058144e+08    12.934328    9837.440250\n",
       "min    6.001100e+04    23.599000     241.165876\n",
       "25%    2.735858e+06    48.275750    1177.869539\n",
       "50%    6.985493e+06    60.873500    3484.113173\n",
       "75%    1.929230e+07    70.961000    9279.348034\n",
       "max    1.318683e+09    82.603000  113523.132900"
      ]
     },
     "execution_count": 10,
     "metadata": {},
     "output_type": "execute_result"
    }
   ],
   "source": [
    "gapminder_clean[['pop', 'lifeexp', 'gdppercap']].describe()"
   ]
  },
  {
   "cell_type": "markdown",
   "metadata": {},
   "source": [
    "We can also extract one specific variable metric at a time if we wish:"
   ]
  },
  {
   "cell_type": "code",
   "execution_count": 11,
   "metadata": {},
   "outputs": [
    {
     "name": "stdout",
     "output_type": "stream",
     "text": [
      "23.599\n",
      "82.603\n",
      "59.5770132168\n",
      "12.9343277544\n",
      "1716\n"
     ]
    }
   ],
   "source": [
    "print (gapminder_clean['lifeexp'].min())\n",
    "print (gapminder_clean['lifeexp'].max())\n",
    "print (gapminder_clean['lifeexp'].mean())\n",
    "print (gapminder_clean['lifeexp'].std())\n",
    "print (gapminder_clean['lifeexp'].count())"
   ]
  },
  {
   "cell_type": "markdown",
   "metadata": {},
   "source": [
    "## Plotting"
   ]
  },
  {
   "cell_type": "markdown",
   "metadata": {},
   "source": [
    "Now that we have some basic understanding of the dataset we are working with, we can use data visualization to help get a better feel for the properties of the data. \n",
    "\n",
    "Recall that [matplotlib](http://matplotlib.org) is Python's main visualization \n",
    "library. It provides a range of tools for constructing plots and numerous \n",
    "high-level plotting libraries (e.g., [Seaborn](http://seaborn.pydata.org)) are \n",
    "built with matplotlib in mind. When we were in the early stages of setting up \n",
    "our analysis, we loaded these libraries:"
   ]
  },
  {
   "cell_type": "code",
   "execution_count": 12,
   "metadata": {
    "collapsed": true
   },
   "outputs": [],
   "source": [
    "import matplotlib.pyplot as plt\n",
    "%matplotlib inline \n",
    "import seaborn as sns\n",
    "sns.set()"
   ]
  },
  {
   "cell_type": "markdown",
   "metadata": {},
   "source": [
    "While, we will\n",
    "focus only on the essentials of how to properly construct plots in univariate\n",
    "and bivariate settings here, it's worth noting that both matplotlib and Seaborn\n",
    "support a diversity of plots: [matplotlib \n",
    "gallery](http://matplotlib.org/gallery.html), [Seaborn\n",
    "gallery](http://seaborn.pydata.org/examples/). "
   ]
  },
  {
   "cell_type": "markdown",
   "metadata": {},
   "source": [
    "### Histograms and Boxplots\n",
    "\n",
    "* __Histograms__ - provide a quick way of visualizing the frequencies of numerical\n",
    "  data (one variable) \n",
    "* __Boxplots__ - provide a way of comparing the summary measures (e.g., max, min,\n",
    "  quartiles) across variables in a data set. Boxplots can be particularly useful with larger data sets.\n"
   ]
  },
  {
   "cell_type": "code",
   "execution_count": 13,
   "metadata": {},
   "outputs": [
    {
     "data": {
      "text/plain": [
       "<matplotlib.text.Text at 0x111d1cba8>"
      ]
     },
     "execution_count": 13,
     "metadata": {},
     "output_type": "execute_result"
    },
    {
     "data": {
      "image/png": "[encoded data removed]",
      "text/plain": [
       "<matplotlib.figure.Figure at 0x10bd346a0>"
      ]
     },
     "metadata": {},
     "output_type": "display_data"
    }
   ],
   "source": [
    "plt.hist(gapminder_clean['lifeexp'])\n",
    "plt.xlabel('lifeexp')\n",
    "plt.ylabel('count')"
   ]
  },
  {
   "cell_type": "code",
   "execution_count": 14,
   "metadata": {},
   "outputs": [
    {
     "data": {
      "text/plain": [
       "<matplotlib.text.Text at 0x111e10390>"
      ]
     },
     "execution_count": 14,
     "metadata": {},
     "output_type": "execute_result"
    },
    {
     "data": {
      "image/png": "[encoded data removed]",
      "text/plain": [
       "<matplotlib.figure.Figure at 0x111d1c780>"
      ]
     },
     "metadata": {},
     "output_type": "display_data"
    }
   ],
   "source": [
    "# complete the following code to make a box plot\n",
    "sns.boxplot(x= , y= , data =  )\n",
    "\n",
    "# creat labels for x and y axes \n"
   ]
  },
  {
   "cell_type": "markdown",
   "metadata": {},
   "source": [
    "### Pairs of numerical variables\n",
    "\n",
    "* __Scatterplots__ - visualization of relationships across two variables..."
   ]
  },
  {
   "cell_type": "code",
   "execution_count": 15,
   "metadata": {},
   "outputs": [
    {
     "data": {
      "text/plain": [
       "<matplotlib.text.Text at 0x111df4c50>"
      ]
     },
     "execution_count": 15,
     "metadata": {},
     "output_type": "execute_result"
    },
    {
     "data": {
      "image/png": "[encoded data removed]",
      "text/plain": [
       "<matplotlib.figure.Figure at 0x111f6d208>"
      ]
     },
     "metadata": {},
     "output_type": "display_data"
    }
   ],
   "source": [
    "# makes a scatter plot between 'gdppercap' and 'lifeexp'\n",
    "plt.scatter(  ,  )\n",
    "\n",
    "# creat labels for x and y axes "
   ]
  },
  {
   "cell_type": "code",
   "execution_count": 16,
   "metadata": {},
   "outputs": [
    {
     "data": {
      "text/plain": [
       "<matplotlib.text.Text at 0x111fb0588>"
      ]
     },
     "execution_count": 16,
     "metadata": {},
     "output_type": "execute_result"
    },
    {
     "data": {
      "image/png": "[encoded data removed]",
      "text/plain": [
       "<matplotlib.figure.Figure at 0x112078be0>"
      ]
     },
     "metadata": {},
     "output_type": "display_data"
    }
   ],
   "source": [
    "# make'gdppercap' on log scale \n",
    "plt.scatter(gapminder_clean['gdppercap'], gapminder_clean['lifeexp'])\n",
    "\n",
    "# add a line here \n",
    "\n",
    "\n",
    "plt.xlabel('gdppercap')\n",
    "plt.ylabel('lifeexp')"
   ]
  },
  {
   "cell_type": "code",
   "execution_count": 1,
   "metadata": {},
   "outputs": [
    {
     "name": "stdout",
     "output_type": "stream",
     "text": [
      "alabaster==0.7.10\n",
      "anaconda-client==1.6.5\n",
      "anaconda-navigator==1.6.9\n",
      "anaconda-project==0.8.0\n",
      "appnope==0.1.0\n",
      "appscript==1.0.1\n",
      "asn1crypto==0.22.0\n",
      "astroid==1.5.3\n",
      "astropy==2.0.2\n",
      "Babel==2.5.0\n",
      "backports.shutil-get-terminal-size==1.0.0\n",
      "beautifulsoup4==4.6.0\n",
      "bitarray==0.8.1\n",
      "bkcharts==0.2\n",
      "blaze==0.11.3\n",
      "bleach==2.0.0\n",
      "bokeh==0.12.10\n",
      "boto==2.48.0\n",
      "Bottleneck==1.2.1\n",
      "certifi==2017.7.27.1\n",
      "cffi==1.10.0\n",
      "chardet==3.0.4\n",
      "click==6.7\n",
      "cloudpickle==0.4.0\n",
      "clyent==1.2.2\n",
      "colorama==0.3.9\n",
      "conda==4.3.30\n",
      "conda-build==3.0.27\n",
      "conda-verify==2.0.0\n",
      "contextlib2==0.5.5\n",
      "cryptography==2.0.3\n",
      "cycler==0.10.0\n",
      "Cython==0.26.1\n",
      "cytoolz==0.8.2\n",
      "dask==0.15.3\n",
      "datashape==0.5.4\n",
      "decorator==4.1.2\n",
      "distributed==1.19.1\n",
      "docutils==0.14\n",
      "entrypoints==0.2.3\n",
      "et-xmlfile==1.0.1\n",
      "fastcache==1.0.2\n",
      "filelock==2.0.12\n",
      "Flask==0.12.2\n",
      "Flask-Cors==3.0.3\n",
      "gevent==1.2.2\n",
      "glob2==0.5\n",
      "gmpy2==2.0.8\n",
      "greenlet==0.4.12\n",
      "h5py==2.7.0\n",
      "heapdict==1.0.0\n",
      "html5lib==0.999999999\n",
      "idna==2.6\n",
      "imageio==2.2.0\n",
      "imagesize==0.7.1\n",
      "ipykernel==4.6.1\n",
      "ipython==6.1.0\n",
      "ipython-genutils==0.2.0\n",
      "ipywidgets==7.0.0\n",
      "isort==4.2.15\n",
      "itsdangerous==0.24\n",
      "jdcal==1.3\n",
      "jedi==0.10.2\n",
      "Jinja2==2.9.6\n",
      "jsonschema==2.6.0\n",
      "jupyter==1.0.0\n",
      "jupyter-client==5.1.0\n",
      "jupyter-console==5.2.0\n",
      "jupyter-core==4.3.0\n",
      "jupyterlab==0.27.0\n",
      "jupyterlab-launcher==0.4.0\n",
      "lazy-object-proxy==1.3.1\n",
      "llvmlite==0.20.0\n",
      "locket==0.2.0\n",
      "lxml==4.1.0\n",
      "MarkupSafe==1.0\n",
      "matplotlib==2.1.0\n",
      "mccabe==0.6.1\n",
      "mistune==0.7.4\n",
      "mpmath==0.19\n",
      "msgpack-python==0.4.8\n",
      "multipledispatch==0.4.9\n",
      "navigator-updater==0.1.0\n",
      "nbconvert==5.3.1\n",
      "nbformat==4.4.0\n",
      "networkx==2.0\n",
      "nltk==3.2.4\n",
      "nose==1.3.7\n",
      "notebook==5.0.0\n",
      "numba==0.35.0+6.gaa35fb1\n",
      "numexpr==2.6.2\n",
      "numpy==1.13.3\n",
      "numpydoc==0.7.0\n",
      "odo==0.5.1\n",
      "olefile==0.44\n",
      "openpyxl==2.4.8\n",
      "packaging==16.8\n",
      "pandas==0.20.3\n",
      "pandocfilters==1.4.2\n",
      "partd==0.3.8\n",
      "path.py==10.3.1\n",
      "pathlib2==2.3.0\n",
      "patsy==0.4.1\n",
      "pep8==1.7.0\n",
      "pexpect==4.2.1\n",
      "pickleshare==0.7.4\n",
      "Pillow==4.2.1\n",
      "pkginfo==1.4.1\n",
      "ply==3.10\n",
      "prompt-toolkit==1.0.15\n",
      "psutil==5.4.0\n",
      "ptyprocess==0.5.2\n",
      "py==1.4.34\n",
      "pycodestyle==2.3.1\n",
      "pycosat==0.6.2\n",
      "pycparser==2.18\n",
      "pycrypto==2.6.1\n",
      "pycurl==7.43.0\n",
      "pyflakes==1.6.0\n",
      "Pygments==2.2.0\n",
      "pylint==1.7.4\n",
      "pyodbc==4.0.17\n",
      "pyOpenSSL==17.2.0\n",
      "pyparsing==2.2.0\n",
      "PySocks==1.6.7\n",
      "pytest==3.2.1\n",
      "python-dateutil==2.6.1\n",
      "pytz==2017.2\n",
      "PyWavelets==0.5.2\n",
      "PyYAML==3.12\n",
      "pyzmq==16.0.2\n",
      "QtAwesome==0.4.4\n",
      "qtconsole==4.3.1\n",
      "QtPy==1.3.1\n",
      "requests==2.18.4\n",
      "rope==0.10.5\n",
      "ruamel-yaml==0.11.14\n",
      "scikit-image==0.13.0\n",
      "scikit-learn==0.19.1\n",
      "scipy==0.19.1\n",
      "seaborn==0.8\n",
      "simplegeneric==0.8.1\n",
      "singledispatch==3.4.0.3\n",
      "six==1.11.0\n",
      "snowballstemmer==1.2.1\n",
      "sortedcollections==0.5.3\n",
      "sortedcontainers==1.5.7\n",
      "Sphinx==1.6.3\n",
      "sphinxcontrib-websupport==1.0.1\n",
      "spyder==3.2.4\n",
      "SQLAlchemy==1.1.13\n",
      "statsmodels==0.8.0\n",
      "sympy==1.1.1\n",
      "tables==3.4.2\n",
      "tblib==1.3.2\n",
      "terminado==0.6\n",
      "testpath==0.3.1\n",
      "toolz==0.8.2\n",
      "tornado==4.5.2\n",
      "traitlets==4.3.2\n",
      "typing==3.6.2\n",
      "unicodecsv==0.14.1\n",
      "urllib3==1.22\n",
      "wcwidth==0.1.7\n",
      "webencodings==0.5.1\n",
      "Werkzeug==0.12.2\n",
      "widgetsnbextension==3.0.2\n",
      "wrapt==1.10.11\n",
      "xlrd==1.1.0\n",
      "XlsxWriter==1.0.2\n",
      "xlwings==0.11.4\n",
      "xlwt==1.2.0\n",
      "zict==0.1.3\n",
      "\u001b[33mYou are using pip version 9.0.1, however version 20.2.4 is available.\n",
      "You should consider upgrading via the 'pip install --upgrade pip' command.\u001b[0m\n"
     ]
    }
   ],
   "source": []
  },
  {
   "cell_type": "code",
   "execution_count": null,
   "metadata": {
    "collapsed": true
   },
   "outputs": [],
   "source": []
  }
 ],
 "metadata": {
  "kernelspec": {
   "display_name": "Python 3",
   "language": "python",
   "name": "python3"
  },
  "language_info": {
   "codemirror_mode": {
    "name": "ipython",
    "version": 3
   },
   "file_extension": ".py",
   "mimetype": "text/x-python",
   "name": "python",
   "nbconvert_exporter": "python",
   "pygments_lexer": "ipython3",
   "version": "3.6.3"
  }
 },
 "nbformat": 4,
 "nbformat_minor": 2
}
